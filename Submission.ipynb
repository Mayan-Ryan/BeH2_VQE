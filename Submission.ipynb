{
 "cells": [
  {
   "cell_type": "code",
   "execution_count": 19,
   "id": "65f77ce9-9af7-41f1-a0fe-c1aadb9b7a1c",
   "metadata": {},
   "outputs": [],
   "source": [
    "!pip install qiskit\n",
    "!pip install qiskit[nature]"
   ]
  },
  {
   "cell_type": "code",
   "execution_count": 1,
   "id": "665c69b7-2b43-4d7e-8e87-d875a7afbecc",
   "metadata": {},
   "outputs": [
    {
     "name": "stderr",
     "output_type": "stream",
     "text": [
      "<frozen importlib._bootstrap>:219: RuntimeWarning: scipy._lib.messagestream.MessageStream size changed, may indicate binary incompatibility. Expected 56 from C header, got 64 from PyObject\n"
     ]
    }
   ],
   "source": [
    "from qiskit_nature.drivers.second_quantization import PySCFDriver\n",
    "from qiskit_nature.drivers import UnitsType\n",
    "from qiskit_nature.second_q.transformers import FreezeCoreTransformer\n",
    "from qiskit_nature.problems.second_quantization.electronic import ElectronicStructureProblem\n",
    "\n",
    "driver = PySCFDriver(atom='Be 0 0 0; H 0 0 0.668; H 0 0 -0.668', unit=UnitsType.ANGSTROM, basis='sto3g')\n",
    "problem = ElectronicStructureProblem(driver,[FreezeCoreTransformer(freeze_core=True,\n",
    "                               )])\n",
    "second_q_ops = problem.second_q_ops()\n",
    "main_op = second_q_ops['ElectronicEnergy']\n",
    "particle_number = problem.grouped_property_transformed.get_property(\"ParticleNumber\")\n",
    "num_particles = (particle_number.num_alpha, particle_number.num_beta)\n",
    "num_spin_orbitals = particle_number.num_spin_orbitals"
   ]
  },
  {
   "cell_type": "code",
   "execution_count": 3,
   "id": "89c02380-a8ef-4cba-ab23-f290864572ef",
   "metadata": {},
   "outputs": [
    {
     "data": {
      "text/plain": [
       "14"
      ]
     },
     "execution_count": 3,
     "metadata": {},
     "output_type": "execute_result"
    }
   ],
   "source": [
    "num_spin_orbitals"
   ]
  },
  {
   "cell_type": "code",
   "execution_count": 2,
   "id": "0439bde7-815d-4fa7-a520-854d8bc61637",
   "metadata": {},
   "outputs": [
    {
     "data": {
      "text/plain": [
       "(3, 3)"
      ]
     },
     "execution_count": 2,
     "metadata": {},
     "output_type": "execute_result"
    }
   ],
   "source": [
    "num_particles"
   ]
  },
  {
   "cell_type": "code",
   "execution_count": null,
   "id": "dc0e861c-8d77-45ec-954f-03105154ab94",
   "metadata": {},
   "outputs": [],
   "source": [
    "from qiskit_nature.mappers.second_quantization import JordanWignerMapper\n",
    "from qiskit_nature.converters.second_quantization import QubitConverter\n",
    "\n",
    "mapper = JordanWignerMapper()\n",
    "converter = QubitConverter(mapper=mapper, two_qubit_reduction=True)\n",
    "qubit_op = converter.convert(main_op, num_particles=num_particles)"
   ]
  },
  {
   "cell_type": "code",
   "execution_count": null,
   "id": "86249c17-55e2-48e4-a8e7-ee27f42aabee",
   "metadata": {},
   "outputs": [],
   "source": [
    "from qiskit import BasicAer,Aer\n",
    "from qiskit_nature.circuit.library import UCCSD\n",
    "from qiskit.algorithms import VQE\n",
    "from qiskit.algorithms.optimizers import GradientDescent\n",
    "from qiskit_nature.circuit.library import HartreeFock\n",
    "\n",
    "backend = BasicAer.get_backend(\"statevector_simulator\")\n",
    "optimizer = GradientDescent(maxiter=100)\n",
    "init_state = HartreeFock(num_spin_orbitals, num_particles, converter)\n",
    "var_form = UCCSD(converter,\n",
    "                     num_particles,\n",
    "                     num_spin_orbitals,\n",
    "                     initial_state=init_state)\n",
    "vqe = VQE(var_form, optimizer, quantum_instance=backend)\n",
    "vqe_calc = vqe.compute_minimum_eigenvalue(qubit_op)\n",
    "vqe_result = problem.interpret(vqe_calc).total_energies[0].real"
   ]
  },
  {
   "cell_type": "code",
   "execution_count": null,
   "id": "70face41-60c3-4057-b4fc-d777cc791f67",
   "metadata": {},
   "outputs": [],
   "source": [
    "print(f\"VQE Result: {vqe_result:.5f}\")"
   ]
  },
  {
   "cell_type": "code",
   "execution_count": null,
   "id": "fe0c3457-8c3b-4b1e-b899-4770703026f8",
   "metadata": {},
   "outputs": [],
   "source": [
    "from qiskit_nature.second_q.algorithms import NumPyMinimumEigensolverFactory, GroundStateEigensolver\n",
    "solver = NumPyMinimumEigensolverFactory()\n",
    "calc = GroundStateEigensolver(converter, solver)\n",
    "exact_result = calc.solve(problem).total_energies[0].real\n"
   ]
  },
  {
   "cell_type": "code",
   "execution_count": null,
   "id": "ee65a8df-1254-482d-a7ff-f61dfaa2a605",
   "metadata": {},
   "outputs": [],
   "source": [
    "print(f\"Exact result: , {exact_result: .5f}\")"
   ]
  },
  {
   "cell_type": "code",
   "execution_count": null,
   "id": "707095fd-9119-499d-b9cd-274c7edcb90d",
   "metadata": {},
   "outputs": [],
   "source": []
  }
 ],
 "metadata": {
  "kernelspec": {
   "display_name": "Python 3 (ipykernel)",
   "language": "python",
   "name": "python3"
  },
  "language_info": {
   "codemirror_mode": {
    "name": "ipython",
    "version": 3
   },
   "file_extension": ".py",
   "mimetype": "text/x-python",
   "name": "python",
   "nbconvert_exporter": "python",
   "pygments_lexer": "ipython3",
   "version": "3.8.15"
  },
  "widgets": {
   "application/vnd.jupyter.widget-state+json": {
    "state": {},
    "version_major": 2,
    "version_minor": 0
   }
  }
 },
 "nbformat": 4,
 "nbformat_minor": 5
}
